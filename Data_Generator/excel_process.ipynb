{
 "cells": [
  {
   "cell_type": "code",
   "execution_count": 134,
   "metadata": {},
   "outputs": [],
   "source": [
    "import pandas as pd\n",
    "from faker import Faker"
   ]
  },
  {
   "cell_type": "code",
   "execution_count": 135,
   "metadata": {},
   "outputs": [],
   "source": [
    "fake = Faker()\n",
    "fake_names = [fake.name() for _ in range(100)]\n",
    "fake_emails = [fake.email() for _ in range(100)]\n",
    "person_dict = {}"
   ]
  },
  {
   "cell_type": "code",
   "execution_count": 136,
   "metadata": {},
   "outputs": [],
   "source": [
    "def fake_person(code):\n",
    "    global person_dict, fake_names, fake_emails\n",
    "    if code in person_dict.keys():\n",
    "        return person_dict[code]\n",
    "    else:\n",
    "        result = {\"name\": fake_names[-1], \"email\": fake_emails[-1]}\n",
    "        person_dict[code] = result\n",
    "        fake_names.pop()\n",
    "        fake_emails.pop()\n",
    "        return result"
   ]
  },
  {
   "cell_type": "code",
   "execution_count": 140,
   "metadata": {},
   "outputs": [],
   "source": [
    "file_name = \"dailysales_04102021\"\n",
    "df = pd.read_excel(f\"./excel_files/{file_name}.xls\")\n",
    "df[\"customer_info\"] = df[\"Customer_Code\"].apply(lambda x: fake_person(x))"
   ]
  },
  {
   "cell_type": "code",
   "execution_count": 141,
   "metadata": {},
   "outputs": [],
   "source": [
    "df.to_csv(f\"./csv/{file_name}.csv\", sep = '|')"
   ]
  },
  {
   "cell_type": "code",
   "execution_count": null,
   "metadata": {},
   "outputs": [],
   "source": []
  }
 ],
 "metadata": {
  "kernelspec": {
   "display_name": "kafka",
   "language": "python",
   "name": "python3"
  },
  "language_info": {
   "codemirror_mode": {
    "name": "ipython",
    "version": 3
   },
   "file_extension": ".py",
   "mimetype": "text/x-python",
   "name": "python",
   "nbconvert_exporter": "python",
   "pygments_lexer": "ipython3",
   "version": "3.11.9"
  }
 },
 "nbformat": 4,
 "nbformat_minor": 2
}
